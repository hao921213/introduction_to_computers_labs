{
  "cells": [
    {
      "cell_type": "markdown",
      "metadata": {
        "id": "4sVfxRF2UC2H"
      },
      "source": [
        "# 下載 MNIST 資料\n",
        "---\n",
        "首先，匯入 keras 和相關模組。"
      ]
    },
    {
      "cell_type": "code",
      "execution_count": 1,
      "metadata": {
        "id": "r43pJCz-n8vP"
      },
      "outputs": [],
      "source": [
        "# 匯入 numpy 和 pandas 模組，numpy 是 python 的程式庫，支援維度陣列與矩陣運算。\n",
        "# pandas 則提供檔案存取和數據操縱。\n",
        "import numpy as np\n",
        "import pandas as pd\n",
        "# 從 keras.utils 匯入 to_categroical，因為後續要將 label 標籤 轉換成 one-hot encoding。\n",
        "from tensorflow.keras.utils import to_categorical\n",
        "# 設定 seed 可以讓每次產生隨機值時，都會有相同的輸出。(若使用GPU，則無法每次皆相同)\n",
        "# 須改為學號末四碼\n",
        "seed = 1091\n",
        "np.random.seed(seed)"
      ]
    },
    {
      "cell_type": "markdown",
      "metadata": {
        "id": "hgn5zsNAYY6A"
      },
      "source": [
        "Keras 中已經提供許多機器學習常用的數據集，包括波士頓房地產數據、CIFAR10、和這次範例要使用的手寫數據集。所以先從 keras 匯入 MNIST。\n",
        "\n",
        "第一次執行 mnist.load_data() ，程式會檢查目錄是否已經有檔案，如果沒有就會自動下載，所以第一次可能都會比較久。之後再次執行時不用再次下載就會快速很多。\n"
      ]
    },
    {
      "cell_type": "code",
      "execution_count": 2,
      "metadata": {
        "id": "vlDNq1x_n8vS",
        "colab": {
          "base_uri": "https://localhost:8080/"
        },
        "outputId": "ed61a6d2-3d4d-496e-99e0-9ef853cdb40c"
      },
      "outputs": [
        {
          "output_type": "stream",
          "name": "stdout",
          "text": [
            "Downloading data from https://storage.googleapis.com/tensorflow/tf-keras-datasets/mnist.npz\n",
            "11490434/11490434 [==============================] - 0s 0us/step\n"
          ]
        }
      ],
      "source": [
        "from tensorflow.keras.datasets import mnist,cifar10\n",
        "(X_train_image, y_train_label),\\\n",
        "    (X_test_image, y_test_label) = mnist.load_data()"
      ]
    },
    {
      "cell_type": "markdown",
      "metadata": {
        "id": "4GZl5_1ndtWZ"
      },
      "source": [
        "先來看看 MNIST 資料數據集的筆數，還有訓練資料的組成。\n",
        "\n",
        "可以看到 train 訓練資料有 60000 筆，test 測試資料有 10000 筆。\n",
        "\n",
        "訓練資料是由 images 和 labels 所組成共 60000 筆， images 是單色的數字影像，labels 是數字影像對應的真實值。"
      ]
    },
    {
      "cell_type": "code",
      "execution_count": 3,
      "metadata": {
        "colab": {
          "base_uri": "https://localhost:8080/"
        },
        "id": "FsuxbJdEn8vS",
        "outputId": "80df9dc5-3ed6-48ac-c11a-5b17f9e0ce1a"
      },
      "outputs": [
        {
          "output_type": "stream",
          "name": "stdout",
          "text": [
            "train data :  60000\n",
            "test data :  10000\n"
          ]
        }
      ],
      "source": [
        "print('train data : ', len(X_train_image))\n",
        "print('test data : ', len(X_test_image))"
      ]
    },
    {
      "cell_type": "code",
      "execution_count": 4,
      "metadata": {
        "colab": {
          "base_uri": "https://localhost:8080/"
        },
        "id": "sxNW-yfUn8vT",
        "outputId": "873269a4-0a8b-4993-a56f-be34435c1425"
      },
      "outputs": [
        {
          "output_type": "stream",
          "name": "stdout",
          "text": [
            "x_train_image :  (60000, 28, 28)\n",
            "y_train_label :  (60000,)\n"
          ]
        }
      ],
      "source": [
        "print('x_train_image : ', X_train_image.shape)\n",
        "print('y_train_label : ', y_train_label.shape)"
      ]
    },
    {
      "cell_type": "markdown",
      "metadata": {
        "id": "p1UqvEszhGu7"
      },
      "source": [
        "# 建立 plot_image 函式來顯示數字影像\n",
        "---\n",
        "來看看剛剛匯入的手寫數字圖像。\n",
        "\n"
      ]
    },
    {
      "cell_type": "code",
      "execution_count": 5,
      "metadata": {
        "id": "aldFBwdNn8vU"
      },
      "outputs": [],
      "source": [
        "import matplotlib.pyplot as plt\n",
        "def plot_image(image):\n",
        "    # 設定圖形顯示大小\n",
        "    fig = plt.gcf()\n",
        "    fig.set_size_inches(2, 2)\n",
        "    # 使用 plt.imshow() 顯示圖像，傳入參數是 28 X 28 的圖形，\n",
        "    # cmap 參數設定為 binary 以黑白灰階顯示\n",
        "    plt.imshow(image, cmap = 'binary')\n",
        "    # 開始繪圖\n",
        "    plt.show()"
      ]
    },
    {
      "cell_type": "markdown",
      "metadata": {
        "id": "-5OMZLgiljix"
      },
      "source": [
        "傳入訓練集第一筆資料，來看看他的影像。"
      ]
    },
    {
      "cell_type": "code",
      "execution_count": 6,
      "metadata": {
        "colab": {
          "base_uri": "https://localhost:8080/",
          "height": 159
        },
        "id": "qrrZ-gcfn8vU",
        "outputId": "cbd95ac8-15b6-4a6a-f192-51c300ad23f6"
      },
      "outputs": [
        {
          "output_type": "display_data",
          "data": {
            "text/plain": [
              "<Figure size 144x144 with 1 Axes>"
            ],
            "image/png": "[encoded data removed]"
          },
          "metadata": {
            "needs_background": "light"
          }
        }
      ],
      "source": [
        "plot_image(X_train_image[0])"
      ]
    },
    {
      "cell_type": "markdown",
      "metadata": {
        "id": "R43L94LSl2IK"
      },
      "source": [
        "看看第一筆資料的 label"
      ]
    },
    {
      "cell_type": "code",
      "execution_count": 7,
      "metadata": {
        "colab": {
          "base_uri": "https://localhost:8080/"
        },
        "id": "CctZ26v_n8vV",
        "outputId": "4d53087b-3490-4420-f88f-caaceff5201f"
      },
      "outputs": [
        {
          "output_type": "execute_result",
          "data": {
            "text/plain": [
              "5"
            ]
          },
          "metadata": {},
          "execution_count": 7
        }
      ],
      "source": [
        "y_train_label[0]"
      ]
    },
    {
      "cell_type": "markdown",
      "metadata": {
        "id": "oXPaFNNjounB"
      },
      "source": [
        "# 查看多筆資料 images 與 labels\n",
        "---\n",
        "定義 plot_images_labels_prediction() 函式，傳入以下參數：images(數字影像)、labels(對應數字真實值)、prediction(預測結果)、idx(開始顯示影像的index)、num(要顯示的資料筆數，預設是10，不超過25)\n"
      ]
    },
    {
      "cell_type": "code",
      "execution_count": 8,
      "metadata": {
        "id": "wVDmYBSWn8vV"
      },
      "outputs": [],
      "source": [
        "def plot_images_labels_prediction(images, labels, prediction,\n",
        "                                    idx, num = 10):\n",
        "    # 設定顯示圖形大小\n",
        "    fig = plt.gcf()\n",
        "    fig.set_size_inches(12, 14)\n",
        "    # 如果顯示筆數大於25 則將他設定為25 以避免錯誤\n",
        "    if num > 25: num = 25\n",
        "    # 使用 for 迴圈依序畫出 num 個數字圖形\n",
        "    for i in range(0, num):\n",
        "        ax = plt.subplot(5, 5, 1+i) # 建立 5 X 5 的 subgraph 子圖形\n",
        "        ax.imshow(images[idx], cmap = 'binary') # 畫出 subgraph 子圖形\n",
        "        title = \"label=\" + str(labels[idx]) # 設定子圖形 title 顯示標籤欄位\n",
        "        if len(prediction) > 0: # 如果 prediction 有傳入值\n",
        "            title += \",predict=\" + str(prediction[idx]) # 將 prediction 加入 title\n",
        "        ax.set_title(title, fontsize = 10) # 設定標題大小\n",
        "        ax.set_xticks([]); ax.set_yticks([]) # 設定不顯示刻度\n",
        "        idx += 1 # 讀取下一筆\n",
        "    plt.show() # 開始畫圖"
      ]
    },
    {
      "cell_type": "markdown",
      "metadata": {
        "id": "epHsMhfHzBAT"
      },
      "source": [
        "顯示訓練資料前 10 筆資料。不過目前還沒有預測結果所以傳入空 list ，由第 0 筆開始顯示至第 9 筆。"
      ]
    },
    {
      "cell_type": "code",
      "execution_count": 9,
      "metadata": {
        "colab": {
          "base_uri": "https://localhost:8080/",
          "height": 321
        },
        "id": "y-iLff1vn8vW",
        "outputId": "55a1cbb8-7b52-4346-bf42-88fafe766bc8"
      },
      "outputs": [
        {
          "output_type": "display_data",
          "data": {
            "text/plain": [
              "<Figure size 864x1008 with 10 Axes>"
            ],
            "image/png": "[encoded data removed]"
          },
          "metadata": {}
        }
      ],
      "source": [
        "plot_images_labels_prediction(X_train_image, y_train_label, [], 0, 10)"
      ]
    },
    {
      "cell_type": "markdown",
      "metadata": {
        "id": "Ae4v3BOYzfz0"
      },
      "source": [
        "查看 test 測試資料筆數，可以看到共10000筆資料。"
      ]
    },
    {
      "cell_type": "code",
      "execution_count": 10,
      "metadata": {
        "colab": {
          "base_uri": "https://localhost:8080/"
        },
        "id": "TKTXr0uin8vW",
        "outputId": "24cee94a-4158-4ec2-94a5-1e0a40ad53fd"
      },
      "outputs": [
        {
          "output_type": "stream",
          "name": "stdout",
          "text": [
            "x_test_image :  (10000, 28, 28)\n",
            "y_test_label :  (10000,)\n"
          ]
        }
      ],
      "source": [
        "print('x_test_image : ', X_test_image.shape)\n",
        "print('y_test_label : ', y_test_label.shape)"
      ]
    },
    {
      "cell_type": "markdown",
      "metadata": {
        "id": "KteBBFUTzr3s"
      },
      "source": [
        "顯示測試資料前 10 筆資料圖形。"
      ]
    },
    {
      "cell_type": "code",
      "execution_count": 11,
      "metadata": {
        "colab": {
          "base_uri": "https://localhost:8080/",
          "height": 321
        },
        "id": "ISt-J68Zn8vX",
        "outputId": "05176b4b-2029-4ed8-d9d9-e481ed3f0b48"
      },
      "outputs": [
        {
          "output_type": "display_data",
          "data": {
            "text/plain": [
              "<Figure size 864x1008 with 10 Axes>"
            ],
            "image/png": "[encoded data removed]"
          },
          "metadata": {}
        }
      ],
      "source": [
        "plot_images_labels_prediction(X_test_image, y_test_label, [], 0, 10)"
      ]
    },
    {
      "cell_type": "markdown",
      "metadata": {
        "id": "HRNmke3J1E1t"
      },
      "source": [
        "# feature(數字影像的特徵值)資料預處理\n"
      ]
    },
    {
      "cell_type": "code",
      "execution_count": 12,
      "metadata": {
        "id": "ms3N-1iUn8vX"
      },
      "outputs": [],
      "source": [
        "X_Train = X_train_image.astype('float32')\n",
        "X_Test = X_test_image.astype('float32')"
      ]
    },
    {
      "cell_type": "markdown",
      "metadata": {
        "id": "AdqLK9G12DbJ"
      },
      "source": [
        "查看一下每一個數字影像都變成 784 個 float 數字。"
      ]
    },
    {
      "cell_type": "code",
      "execution_count": 13,
      "metadata": {
        "colab": {
          "base_uri": "https://localhost:8080/"
        },
        "id": "uBbTQ0gWn8vX",
        "outputId": "6a4f347d-e268-4f89-fb07-31341766fa0e"
      },
      "outputs": [
        {
          "output_type": "stream",
          "name": "stdout",
          "text": [
            "x_train :  (60000, 28, 28)\n",
            "x_test :  (10000, 28, 28)\n"
          ]
        }
      ],
      "source": [
        "print('x_train : ', X_Train.shape)\n",
        "print('x_test : ', X_Test.shape)"
      ]
    },
    {
      "cell_type": "markdown",
      "metadata": {
        "id": "ivdFFYiD2WqY"
      },
      "source": [
        "將 image 的數字標準化。\n",
        "\n",
        "因為圖像的數字是介於 0 到 255，所以最簡單的方法就是除以 255。"
      ]
    },
    {
      "cell_type": "code",
      "execution_count": 14,
      "metadata": {
        "id": "NDMKuvtIn8vY"
      },
      "outputs": [],
      "source": [
        "X_Train_normalize = X_Train / 255\n",
        "X_Test_normalize = X_Test / 255"
      ]
    },
    {
      "cell_type": "markdown",
      "metadata": {
        "id": "CDWfCYgu29br"
      },
      "source": [
        "# labels(數字影像對應真實值)資料預處理\n",
        "---\n",
        "先來查看一下訓練資料 label 標籤欄位前五筆資料，可以看到這是 0 ~ 9 的單一數字。"
      ]
    },
    {
      "cell_type": "code",
      "execution_count": 15,
      "metadata": {
        "colab": {
          "base_uri": "https://localhost:8080/"
        },
        "id": "_OPr_LFYn8vY",
        "outputId": "332b49b5-abbd-4e98-9021-1995930a8c92"
      },
      "outputs": [
        {
          "output_type": "execute_result",
          "data": {
            "text/plain": [
              "array([5, 0, 4, 1, 9], dtype=uint8)"
            ]
          },
          "metadata": {},
          "execution_count": 15
        }
      ],
      "source": [
        "y_train_label[:5]"
      ]
    },
    {
      "cell_type": "markdown",
      "metadata": {
        "id": "0HVpRwTMlWTo"
      },
      "source": [
        "使用我們開頭匯入的 to_categorical函式，傳入 label 標籤，將他們轉換成 one-hot encoding。"
      ]
    },
    {
      "cell_type": "code",
      "execution_count": 16,
      "metadata": {
        "id": "Am_djE9Cn8vY"
      },
      "outputs": [],
      "source": [
        "y_TrainOneHot = to_categorical(y_train_label)\n",
        "y_TestOneHot = to_categorical(y_test_label)"
      ]
    },
    {
      "cell_type": "markdown",
      "metadata": {
        "id": "IdhtS_VDl6kg"
      },
      "source": [
        "查看轉換過後的結果。"
      ]
    },
    {
      "cell_type": "code",
      "execution_count": 17,
      "metadata": {
        "colab": {
          "base_uri": "https://localhost:8080/"
        },
        "id": "ehbvMVISn8vZ",
        "outputId": "5e7b9797-52a6-4209-ef49-ce0ce4bf54eb"
      },
      "outputs": [
        {
          "output_type": "execute_result",
          "data": {
            "text/plain": [
              "array([[0., 0., 0., 0., 0., 1., 0., 0., 0., 0.],\n",
              "       [1., 0., 0., 0., 0., 0., 0., 0., 0., 0.],\n",
              "       [0., 0., 0., 0., 1., 0., 0., 0., 0., 0.],\n",
              "       [0., 1., 0., 0., 0., 0., 0., 0., 0., 0.],\n",
              "       [0., 0., 0., 0., 0., 0., 0., 0., 0., 1.]], dtype=float32)"
            ]
          },
          "metadata": {},
          "execution_count": 17
        }
      ],
      "source": [
        "y_TrainOneHot[:5]"
      ]
    },
    {
      "cell_type": "markdown",
      "metadata": {
        "id": "VZ24AXlCmC2g"
      },
      "source": [
        "# 建立 MLP 模型\n",
        "---\n",
        "接下來建立我們的多層感知器模型，輸入層共有 (28*28) 個神經元，隱藏層 32 個神經元，最後輸出層共有 10 個神經元。\n",
        "\n",
        "首先先匯入所需要的模組。"
      ]
    },
    {
      "cell_type": "code",
      "execution_count": 18,
      "metadata": {
        "id": "6t3RUk-wn8vZ"
      },
      "outputs": [],
      "source": [
        "from tensorflow.keras import layers, metrics\n",
        "from tensorflow.keras.layers import Dense,InputLayer,Flatten\n",
        "from tensorflow.keras import models\n",
        "import tensorflow as tf\n",
        "tf.random.set_seed(seed)"
      ]
    },
    {
      "cell_type": "markdown",
      "metadata": {
        "id": "_KqO-SLQm7Dk"
      },
      "source": [
        "建立 Sequential 一個線性堆疊模型，後續只要使用 model.add() 將個神經網路層依序加入模型即可。"
      ]
    },
    {
      "cell_type": "code",
      "execution_count": 19,
      "metadata": {
        "id": "RJKfB6H8n8vZ"
      },
      "outputs": [],
      "source": [
        "model = models.Sequential()"
      ]
    },
    {
      "cell_type": "markdown",
      "source": [
        "建立輸入層\n",
        "1.   設定輸入層神經元 維度為 (28,28,1)。\n",
        "2.   把(28,28,1)攤平，變成一維"
      ],
      "metadata": {
        "id": "3PvA6D4BrQmP"
      }
    },
    {
      "cell_type": "code",
      "source": [
        "model.add(InputLayer(input_shape=(28,28,1)))\n",
        "model.add(Flatten())"
      ],
      "metadata": {
        "id": "MlQx3w1krP2X"
      },
      "execution_count": 20,
      "outputs": []
    },
    {
      "cell_type": "markdown",
      "metadata": {
        "id": "uvAqC0q3nZdO"
      },
      "source": [
        "建立隱藏層。\n",
        "1.   定義隱藏層神經元 32 個。\n",
        "2.   設定激活函數為 sigmoid\n",
        "。\n",
        "\n"
      ]
    },
    {
      "cell_type": "code",
      "execution_count": 21,
      "metadata": {
        "id": "2bCNDEF7n8vZ"
      },
      "outputs": [],
      "source": [
        "model.add(Dense(650,  kernel_initializer = 'zeros',activation = 'sigmoid'))\n",
        "# elu exponential gelu hard_sigmoid linear relu selu sigmoid softmax softplus softsign swish tanh"
      ]
    },
    {
      "cell_type": "markdown",
      "metadata": {
        "id": "DU9GQ-0VoRaS"
      },
      "source": [
        "建立輸出層總共 10 個神經元，對應要分類的數字類別 0 ~ 9 。設定激活函數為 softmax ，這樣每一個神經元的輸出結果可視為預測每一個數字的機率。"
      ]
    },
    {
      "cell_type": "code",
      "execution_count": 22,
      "metadata": {
        "id": "4cgofZ9Yn8va"
      },
      "outputs": [],
      "source": [
        "model.add(Dense(10, kernel_initializer = 'normal', activation = 'softmax'))"
      ]
    },
    {
      "cell_type": "markdown",
      "metadata": {
        "id": "I5tigyhWo3eg"
      },
      "source": [
        "來看看我們建好的模型的摘要。"
      ]
    },
    {
      "cell_type": "code",
      "execution_count": 23,
      "metadata": {
        "colab": {
          "base_uri": "https://localhost:8080/"
        },
        "id": "yw-ifJ58n8va",
        "outputId": "6e230022-928b-47e8-ed41-5a78cc70470d"
      },
      "outputs": [
        {
          "output_type": "stream",
          "name": "stdout",
          "text": [
            "Model: \"sequential\"\n",
            "_________________________________________________________________\n",
            " Layer (type)                Output Shape              Param #   \n",
            "=================================================================\n",
            " flatten (Flatten)           (None, 784)               0         \n",
            "                                                                 \n",
            " dense (Dense)               (None, 650)               510250    \n",
            "                                                                 \n",
            " dense_1 (Dense)             (None, 10)                6510      \n",
            "                                                                 \n",
            "=================================================================\n",
            "Total params: 516,760\n",
            "Trainable params: 516,760\n",
            "Non-trainable params: 0\n",
            "_________________________________________________________________\n",
            "None\n"
          ]
        }
      ],
      "source": [
        "print(model.summary())"
      ]
    },
    {
      "cell_type": "markdown",
      "metadata": {
        "id": "mR__ZeJ8pS0Y"
      },
      "source": [
        "# 進行訓練\n",
        "---\n",
        "首先使用 compile ，對訓練模型進行設定。相關參數有：\n",
        "1.   loss : 設定損失函數，這邊使用 BinaryCrossentropy。另外也還有很多不同的函數，可以到 keras 官網查詢，不同的模型和資料都有他們最適合的函數。\n",
        "2.   optimizer : 設定優化方法，這邊使用 sgd 方法。同樣 keras 也提供很多種優化方法。\n",
        "1.   metrics : 設定評估模型的方式是 accuracy 準確率。"
      ]
    },
    {
      "cell_type": "code",
      "execution_count": 24,
      "metadata": {
        "id": "CNMv_62tn8va"
      },
      "outputs": [],
      "source": [
        "loss_function = 'CategoricalCrossentropy' # CategoricalHinge BinaryCrossentropy BinaryFocalCrossentropy CategoricalCrossentropy \n",
        "optimize_function = 'sgd' # Adadelta , Adagrad ,Adam ,Adamax ,FTRL ,Nadam ,RMSprop ,sgd\n",
        "model.compile(loss = loss_function, optimizer = optimize_function,metrics = ['accuracy'])"
      ]
    },
    {
      "cell_type": "markdown",
      "metadata": {
        "id": "jeXXrNn_rCxB"
      },
      "source": [
        "開始訓練，過程都會儲存在 train_history 變數，其中的相關參數：\n",
        "1.   設定 validation_split = 0.2 ，將訓練資料 80% 作為訓練，20% 作為驗證資料。\n",
        "1.   設定 epochs 執行 10 次訓練週期。每一批次 batch_size 有 200 筆資料。\n",
        "2.   verbose = 2，顯示訓練過程。"
      ]
    },
    {
      "cell_type": "code",
      "execution_count": 25,
      "metadata": {
        "colab": {
          "base_uri": "https://localhost:8080/"
        },
        "id": "A9mb8zN3n8va",
        "outputId": "e10919ea-597a-49ba-94aa-423165d39044"
      },
      "outputs": [
        {
          "output_type": "stream",
          "name": "stdout",
          "text": [
            "Epoch 1/20\n",
            "480/480 - 4s - loss: 2.0502 - accuracy: 0.4965 - val_loss: 1.7862 - val_accuracy: 0.7181 - 4s/epoch - 8ms/step\n",
            "Epoch 2/20\n",
            "480/480 - 1s - loss: 1.5612 - accuracy: 0.7260 - val_loss: 1.3217 - val_accuracy: 0.8016 - 1s/epoch - 3ms/step\n",
            "Epoch 3/20\n",
            "480/480 - 1s - loss: 1.1754 - accuracy: 0.7877 - val_loss: 1.0025 - val_accuracy: 0.8281 - 1s/epoch - 3ms/step\n",
            "Epoch 4/20\n",
            "480/480 - 1s - loss: 0.9313 - accuracy: 0.8197 - val_loss: 0.8128 - val_accuracy: 0.8417 - 1s/epoch - 3ms/step\n",
            "Epoch 5/20\n",
            "480/480 - 1s - loss: 0.7823 - accuracy: 0.8369 - val_loss: 0.6928 - val_accuracy: 0.8586 - 1s/epoch - 3ms/step\n",
            "Epoch 6/20\n",
            "480/480 - 1s - loss: 0.6862 - accuracy: 0.8488 - val_loss: 0.6143 - val_accuracy: 0.8659 - 1s/epoch - 3ms/step\n",
            "Epoch 7/20\n",
            "480/480 - 1s - loss: 0.6205 - accuracy: 0.8558 - val_loss: 0.5590 - val_accuracy: 0.8735 - 1s/epoch - 3ms/step\n",
            "Epoch 8/20\n",
            "480/480 - 1s - loss: 0.5725 - accuracy: 0.8633 - val_loss: 0.5193 - val_accuracy: 0.8777 - 1s/epoch - 2ms/step\n",
            "Epoch 9/20\n",
            "480/480 - 1s - loss: 0.5365 - accuracy: 0.8676 - val_loss: 0.4890 - val_accuracy: 0.8797 - 1s/epoch - 2ms/step\n",
            "Epoch 10/20\n",
            "480/480 - 1s - loss: 0.5081 - accuracy: 0.8724 - val_loss: 0.4648 - val_accuracy: 0.8826 - 1s/epoch - 3ms/step\n",
            "Epoch 11/20\n",
            "480/480 - 1s - loss: 0.4854 - accuracy: 0.8762 - val_loss: 0.4450 - val_accuracy: 0.8882 - 1s/epoch - 2ms/step\n",
            "Epoch 12/20\n",
            "480/480 - 1s - loss: 0.4668 - accuracy: 0.8790 - val_loss: 0.4283 - val_accuracy: 0.8913 - 1s/epoch - 3ms/step\n",
            "Epoch 13/20\n",
            "480/480 - 1s - loss: 0.4514 - accuracy: 0.8811 - val_loss: 0.4149 - val_accuracy: 0.8932 - 1s/epoch - 2ms/step\n",
            "Epoch 14/20\n",
            "480/480 - 1s - loss: 0.4381 - accuracy: 0.8835 - val_loss: 0.4041 - val_accuracy: 0.8945 - 1s/epoch - 3ms/step\n",
            "Epoch 15/20\n",
            "480/480 - 1s - loss: 0.4268 - accuracy: 0.8848 - val_loss: 0.3942 - val_accuracy: 0.8953 - 1s/epoch - 2ms/step\n",
            "Epoch 16/20\n",
            "480/480 - 1s - loss: 0.4171 - accuracy: 0.8873 - val_loss: 0.3853 - val_accuracy: 0.8970 - 1s/epoch - 2ms/step\n",
            "Epoch 17/20\n",
            "480/480 - 1s - loss: 0.4083 - accuracy: 0.8883 - val_loss: 0.3789 - val_accuracy: 0.8979 - 1s/epoch - 3ms/step\n",
            "Epoch 18/20\n",
            "480/480 - 1s - loss: 0.4008 - accuracy: 0.8896 - val_loss: 0.3713 - val_accuracy: 0.8995 - 1s/epoch - 3ms/step\n",
            "Epoch 19/20\n",
            "480/480 - 1s - loss: 0.3940 - accuracy: 0.8916 - val_loss: 0.3671 - val_accuracy: 0.8984 - 1s/epoch - 3ms/step\n",
            "Epoch 20/20\n",
            "480/480 - 1s - loss: 0.3879 - accuracy: 0.8924 - val_loss: 0.3618 - val_accuracy: 0.8994 - 1s/epoch - 2ms/step\n"
          ]
        }
      ],
      "source": [
        "train_history = model.fit(x = X_Train_normalize, y = y_TrainOneHot,\n",
        "                            validation_split = 0.2, epochs = 20, batch_size = 100,\n",
        "                            verbose = 2)"
      ]
    },
    {
      "cell_type": "markdown",
      "metadata": {
        "id": "y2UhJPyc39PF"
      },
      "source": [
        "建立函式顯示訓練過程，會將每一個訓練週期的 accuracy 和 loss 以圖表顯示出來。"
      ]
    },
    {
      "cell_type": "code",
      "execution_count": 26,
      "metadata": {
        "id": "oQgpTAEfn8vb"
      },
      "outputs": [],
      "source": [
        "def show_train_history(train_history, train, validation):\n",
        "    plt.plot(train_history.history[train])\n",
        "    plt.plot(train_history.history[validation])\n",
        "    plt.title('Train History')\n",
        "    plt.ylabel(train)\n",
        "    plt.xlabel('Epoch')\n",
        "    plt.legend(['train', 'validation'], loc = 'upper left')\n",
        "    plt.show()"
      ]
    },
    {
      "cell_type": "code",
      "execution_count": 27,
      "metadata": {
        "id": "Gd1cWRrKn8vb",
        "colab": {
          "base_uri": "https://localhost:8080/",
          "height": 295
        },
        "outputId": "c971e8c7-1ee0-446c-b12f-6b59b01121f1"
      },
      "outputs": [
        {
          "output_type": "display_data",
          "data": {
            "text/plain": [
              "<Figure size 432x288 with 1 Axes>"
            ],
            "image/png": "[encoded data removed]"
          },
          "metadata": {
            "needs_background": "light"
          }
        }
      ],
      "source": [
        "show_train_history(train_history, 'accuracy', 'val_accuracy')"
      ]
    },
    {
      "cell_type": "code",
      "execution_count": 28,
      "metadata": {
        "id": "BW7YX87on8vb",
        "colab": {
          "base_uri": "https://localhost:8080/",
          "height": 295
        },
        "outputId": "dcc7e64d-0732-497b-9c76-669e8abc0f2c"
      },
      "outputs": [
        {
          "output_type": "display_data",
          "data": {
            "text/plain": [
              "<Figure size 432x288 with 1 Axes>"
            ],
            "image/png": "[encoded data removed]"
          },
          "metadata": {
            "needs_background": "light"
          }
        }
      ],
      "source": [
        "show_train_history(train_history, 'loss', 'val_loss')"
      ]
    },
    {
      "cell_type": "markdown",
      "metadata": {
        "id": "fhHrcEWo4iJD"
      },
      "source": [
        "# 以測試資料評估模型準確率\n",
        "---\n"
      ]
    },
    {
      "cell_type": "code",
      "execution_count": 29,
      "metadata": {
        "id": "FpMOSWR2n8vc",
        "colab": {
          "base_uri": "https://localhost:8080/"
        },
        "outputId": "10dda760-6fa9-48ee-9686-00a4bb0de9ce"
      },
      "outputs": [
        {
          "output_type": "stream",
          "name": "stdout",
          "text": [
            "313/313 [==============================] - 1s 2ms/step - loss: 0.3635 - accuracy: 0.9003\n",
            "\n",
            "accuracy =  0.9003000259399414\n"
          ]
        }
      ],
      "source": [
        "scores = model.evaluate(X_Test_normalize, y_TestOneHot)\n",
        "print()\n",
        "print('accuracy = ', scores[1])"
      ]
    },
    {
      "cell_type": "markdown",
      "metadata": {
        "id": "80wdyNJY40PA"
      },
      "source": [
        "執行預測，將結果存到 prediction 中。"
      ]
    },
    {
      "cell_type": "code",
      "execution_count": 30,
      "metadata": {
        "id": "PjVUnCEnn8vc",
        "colab": {
          "base_uri": "https://localhost:8080/"
        },
        "outputId": "603db399-9f09-424e-b42a-5b32fab99402"
      },
      "outputs": [
        {
          "output_type": "stream",
          "name": "stdout",
          "text": [
            "313/313 [==============================] - 1s 1ms/step\n"
          ]
        }
      ],
      "source": [
        "prediction = np.argmax(model.predict(X_Test), axis = -1)"
      ]
    },
    {
      "cell_type": "code",
      "execution_count": 31,
      "metadata": {
        "id": "h9SWS2kqn8vc",
        "colab": {
          "base_uri": "https://localhost:8080/"
        },
        "outputId": "e927986f-fd63-4488-9875-8ef8eec48ab0"
      },
      "outputs": [
        {
          "output_type": "execute_result",
          "data": {
            "text/plain": [
              "array([7, 2, 1, ..., 4, 8, 6])"
            ]
          },
          "metadata": {},
          "execution_count": 31
        }
      ],
      "source": [
        "prediction"
      ]
    },
    {
      "cell_type": "markdown",
      "metadata": {
        "id": "lpO7D8kU5Cc_"
      },
      "source": [
        "顯示 10 筆預測結果。"
      ]
    },
    {
      "cell_type": "code",
      "execution_count": 32,
      "metadata": {
        "id": "3P_gdFyBn8vc",
        "scrolled": false,
        "colab": {
          "base_uri": "https://localhost:8080/",
          "height": 321
        },
        "outputId": "7518a9eb-2ae7-4ca5-c9da-14bf73b6fd64"
      },
      "outputs": [
        {
          "output_type": "display_data",
          "data": {
            "text/plain": [
              "<Figure size 864x1008 with 10 Axes>"
            ],
            "image/png": "[encoded data removed]"
          },
          "metadata": {}
        }
      ],
      "source": [
        "plot_images_labels_prediction(X_test_image, y_test_label, prediction, idx = 340)"
      ]
    },
    {
      "cell_type": "code",
      "source": [
        "y_test_label = y_test_label.reshape(10000)"
      ],
      "metadata": {
        "id": "bwAxlDHhxG-D"
      },
      "execution_count": 33,
      "outputs": []
    },
    {
      "cell_type": "markdown",
      "metadata": {
        "id": "wPnqNhGnvgqS"
      },
      "source": [
        "混淆矩陣 "
      ]
    },
    {
      "cell_type": "code",
      "execution_count": 34,
      "metadata": {
        "id": "MnGfKgExvgqS",
        "colab": {
          "base_uri": "https://localhost:8080/",
          "height": 394
        },
        "outputId": "2053fdc0-6ffb-42a7-e1f9-9701f0d8484a"
      },
      "outputs": [
        {
          "output_type": "execute_result",
          "data": {
            "text/plain": [
              "predict    0    1    2    3    4    5    6    7    8    9\n",
              "label                                                    \n",
              "0        963    0    1    1    0    0    5    1    9    0\n",
              "1          0  981    3   11    0    0    3    0  137    0\n",
              "2         17    0  871   21   11    0   23    6   76    7\n",
              "3          7    0   18  899    1    3    3    4   68    7\n",
              "4          4    1    4    0  857    0   16    0   45   55\n",
              "5         56    1    4   86    7  364   21    5  332   16\n",
              "6         31    2    7    1    8    1  881    0   27    0\n",
              "7         10    7   38   10   10    0    0  814   39  100\n",
              "8          9    0    2   12    4    0    7    1  933    6\n",
              "9         19    2    4    8   29    0    1    3   60  883"
            ],
            "text/html": [
              "\n",
              "  <div id=\"df-615904c0-d0e4-4d58-9e10-c8a610c40a60\">\n",
              "    <div class=\"colab-df-container\">\n",
              "      <div>\n",
              "<style scoped>\n",
              "    .dataframe tbody tr th:only-of-type {\n",
              "        vertical-align: middle;\n",
              "    }\n",
              "\n",
              "    .dataframe tbody tr th {\n",
              "        vertical-align: top;\n",
              "    }\n",
              "\n",
              "    .dataframe thead th {\n",
              "        text-align: right;\n",
              "    }\n",
              "</style>\n",
              "<table border=\"1\" class=\"dataframe\">\n",
              "  <thead>\n",
              "    <tr style=\"text-align: right;\">\n",
              "      <th>predict</th>\n",
              "      <th>0</th>\n",
              "      <th>1</th>\n",
              "      <th>2</th>\n",
              "      <th>3</th>\n",
              "      <th>4</th>\n",
              "      <th>5</th>\n",
              "      <th>6</th>\n",
              "      <th>7</th>\n",
              "      <th>8</th>\n",
              "      <th>9</th>\n",
              "    </tr>\n",
              "    <tr>\n",
              "      <th>label</th>\n",
              "      <th></th>\n",
              "      <th></th>\n",
              "      <th></th>\n",
              "      <th></th>\n",
              "      <th></th>\n",
              "      <th></th>\n",
              "      <th></th>\n",
              "      <th></th>\n",
              "      <th></th>\n",
              "      <th></th>\n",
              "    </tr>\n",
              "  </thead>\n",
              "  <tbody>\n",
              "    <tr>\n",
              "      <th>0</th>\n",
              "      <td>963</td>\n",
              "      <td>0</td>\n",
              "      <td>1</td>\n",
              "      <td>1</td>\n",
              "      <td>0</td>\n",
              "      <td>0</td>\n",
              "      <td>5</td>\n",
              "      <td>1</td>\n",
              "      <td>9</td>\n",
              "      <td>0</td>\n",
              "    </tr>\n",
              "    <tr>\n",
              "      <th>1</th>\n",
              "      <td>0</td>\n",
              "      <td>981</td>\n",
              "      <td>3</td>\n",
              "      <td>11</td>\n",
              "      <td>0</td>\n",
              "      <td>0</td>\n",
              "      <td>3</td>\n",
              "      <td>0</td>\n",
              "      <td>137</td>\n",
              "      <td>0</td>\n",
              "    </tr>\n",
              "    <tr>\n",
              "      <th>2</th>\n",
              "      <td>17</td>\n",
              "      <td>0</td>\n",
              "      <td>871</td>\n",
              "      <td>21</td>\n",
              "      <td>11</td>\n",
              "      <td>0</td>\n",
              "      <td>23</td>\n",
              "      <td>6</td>\n",
              "      <td>76</td>\n",
              "      <td>7</td>\n",
              "    </tr>\n",
              "    <tr>\n",
              "      <th>3</th>\n",
              "      <td>7</td>\n",
              "      <td>0</td>\n",
              "      <td>18</td>\n",
              "      <td>899</td>\n",
              "      <td>1</td>\n",
              "      <td>3</td>\n",
              "      <td>3</td>\n",
              "      <td>4</td>\n",
              "      <td>68</td>\n",
              "      <td>7</td>\n",
              "    </tr>\n",
              "    <tr>\n",
              "      <th>4</th>\n",
              "      <td>4</td>\n",
              "      <td>1</td>\n",
              "      <td>4</td>\n",
              "      <td>0</td>\n",
              "      <td>857</td>\n",
              "      <td>0</td>\n",
              "      <td>16</td>\n",
              "      <td>0</td>\n",
              "      <td>45</td>\n",
              "      <td>55</td>\n",
              "    </tr>\n",
              "    <tr>\n",
              "      <th>5</th>\n",
              "      <td>56</td>\n",
              "      <td>1</td>\n",
              "      <td>4</td>\n",
              "      <td>86</td>\n",
              "      <td>7</td>\n",
              "      <td>364</td>\n",
              "      <td>21</td>\n",
              "      <td>5</td>\n",
              "      <td>332</td>\n",
              "      <td>16</td>\n",
              "    </tr>\n",
              "    <tr>\n",
              "      <th>6</th>\n",
              "      <td>31</td>\n",
              "      <td>2</td>\n",
              "      <td>7</td>\n",
              "      <td>1</td>\n",
              "      <td>8</td>\n",
              "      <td>1</td>\n",
              "      <td>881</td>\n",
              "      <td>0</td>\n",
              "      <td>27</td>\n",
              "      <td>0</td>\n",
              "    </tr>\n",
              "    <tr>\n",
              "      <th>7</th>\n",
              "      <td>10</td>\n",
              "      <td>7</td>\n",
              "      <td>38</td>\n",
              "      <td>10</td>\n",
              "      <td>10</td>\n",
              "      <td>0</td>\n",
              "      <td>0</td>\n",
              "      <td>814</td>\n",
              "      <td>39</td>\n",
              "      <td>100</td>\n",
              "    </tr>\n",
              "    <tr>\n",
              "      <th>8</th>\n",
              "      <td>9</td>\n",
              "      <td>0</td>\n",
              "      <td>2</td>\n",
              "      <td>12</td>\n",
              "      <td>4</td>\n",
              "      <td>0</td>\n",
              "      <td>7</td>\n",
              "      <td>1</td>\n",
              "      <td>933</td>\n",
              "      <td>6</td>\n",
              "    </tr>\n",
              "    <tr>\n",
              "      <th>9</th>\n",
              "      <td>19</td>\n",
              "      <td>2</td>\n",
              "      <td>4</td>\n",
              "      <td>8</td>\n",
              "      <td>29</td>\n",
              "      <td>0</td>\n",
              "      <td>1</td>\n",
              "      <td>3</td>\n",
              "      <td>60</td>\n",
              "      <td>883</td>\n",
              "    </tr>\n",
              "  </tbody>\n",
              "</table>\n",
              "</div>\n",
              "      <button class=\"colab-df-convert\" onclick=\"convertToInteractive('df-615904c0-d0e4-4d58-9e10-c8a610c40a60')\"\n",
              "              title=\"Convert this dataframe to an interactive table.\"\n",
              "              style=\"display:none;\">\n",
              "        \n",
              "  <svg xmlns=\"http://www.w3.org/2000/svg\" height=\"24px\"viewBox=\"0 0 24 24\"\n",
              "       width=\"24px\">\n",
              "    <path d=\"M0 0h24v24H0V0z\" fill=\"none\"/>\n",
              "    <path d=\"M18.56 5.44l.94 2.06.94-2.06 2.06-.94-2.06-.94-.94-2.06-.94 2.06-2.06.94zm-11 1L8.5 8.5l.94-2.06 2.06-.94-2.06-.94L8.5 2.5l-.94 2.06-2.06.94zm10 10l.94 2.06.94-2.06 2.06-.94-2.06-.94-.94-2.06-.94 2.06-2.06.94z\"/><path d=\"M17.41 7.96l-1.37-1.37c-.4-.4-.92-.59-1.43-.59-.52 0-1.04.2-1.43.59L10.3 9.45l-7.72 7.72c-.78.78-.78 2.05 0 2.83L4 21.41c.39.39.9.59 1.41.59.51 0 1.02-.2 1.41-.59l7.78-7.78 2.81-2.81c.8-.78.8-2.07 0-2.86zM5.41 20L4 18.59l7.72-7.72 1.47 1.35L5.41 20z\"/>\n",
              "  </svg>\n",
              "      </button>\n",
              "      \n",
              "  <style>\n",
              "    .colab-df-container {\n",
              "      display:flex;\n",
              "      flex-wrap:wrap;\n",
              "      gap: 12px;\n",
              "    }\n",
              "\n",
              "    .colab-df-convert {\n",
              "      background-color: #E8F0FE;\n",
              "      border: none;\n",
              "      border-radius: 50%;\n",
              "      cursor: pointer;\n",
              "      display: none;\n",
              "      fill: #1967D2;\n",
              "      height: 32px;\n",
              "      padding: 0 0 0 0;\n",
              "      width: 32px;\n",
              "    }\n",
              "\n",
              "    .colab-df-convert:hover {\n",
              "      background-color: #E2EBFA;\n",
              "      box-shadow: 0px 1px 2px rgba(60, 64, 67, 0.3), 0px 1px 3px 1px rgba(60, 64, 67, 0.15);\n",
              "      fill: #174EA6;\n",
              "    }\n",
              "\n",
              "    [theme=dark] .colab-df-convert {\n",
              "      background-color: #3B4455;\n",
              "      fill: #D2E3FC;\n",
              "    }\n",
              "\n",
              "    [theme=dark] .colab-df-convert:hover {\n",
              "      background-color: #434B5C;\n",
              "      box-shadow: 0px 1px 3px 1px rgba(0, 0, 0, 0.15);\n",
              "      filter: drop-shadow(0px 1px 2px rgba(0, 0, 0, 0.3));\n",
              "      fill: #FFFFFF;\n",
              "    }\n",
              "  </style>\n",
              "\n",
              "      <script>\n",
              "        const buttonEl =\n",
              "          document.querySelector('#df-615904c0-d0e4-4d58-9e10-c8a610c40a60 button.colab-df-convert');\n",
              "        buttonEl.style.display =\n",
              "          google.colab.kernel.accessAllowed ? 'block' : 'none';\n",
              "\n",
              "        async function convertToInteractive(key) {\n",
              "          const element = document.querySelector('#df-615904c0-d0e4-4d58-9e10-c8a610c40a60');\n",
              "          const dataTable =\n",
              "            await google.colab.kernel.invokeFunction('convertToInteractive',\n",
              "                                                     [key], {});\n",
              "          if (!dataTable) return;\n",
              "\n",
              "          const docLinkHtml = 'Like what you see? Visit the ' +\n",
              "            '<a target=\"_blank\" href=https://colab.research.google.com/notebooks/data_table.ipynb>data table notebook</a>'\n",
              "            + ' to learn more about interactive tables.';\n",
              "          element.innerHTML = '';\n",
              "          dataTable['output_type'] = 'display_data';\n",
              "          await google.colab.output.renderOutput(dataTable, element);\n",
              "          const docLink = document.createElement('div');\n",
              "          docLink.innerHTML = docLinkHtml;\n",
              "          element.appendChild(docLink);\n",
              "        }\n",
              "      </script>\n",
              "    </div>\n",
              "  </div>\n",
              "  "
            ]
          },
          "metadata": {},
          "execution_count": 34
        }
      ],
      "source": [
        "#使用 pandas 中的 crosstab 能夠很方便的建立混淆矩陣。\n",
        "pd.crosstab(y_test_label, prediction, rownames = ['label'], colnames = ['predict'])"
      ]
    }
  ],
  "metadata": {
    "accelerator": "GPU",
    "colab": {
      "provenance": []
    },
    "gpuClass": "standard",
    "kernelspec": {
      "display_name": "Python 3.7.9 ('py37_tensorflow')",
      "language": "python",
      "name": "python3"
    },
    "language_info": {
      "codemirror_mode": {
        "name": "ipython",
        "version": 3
      },
      "file_extension": ".py",
      "mimetype": "text/x-python",
      "name": "python",
      "nbconvert_exporter": "python",
      "pygments_lexer": "ipython3",
      "version": "3.7.9"
    },
    "vscode": {
      "interpreter": {
        "hash": "d194fa7cde35d0544ffd86d7eb28ea43b62c695d72f93f04bc49d19e1b400069"
      }
    }
  },
  "nbformat": 4,
  "nbformat_minor": 0
}